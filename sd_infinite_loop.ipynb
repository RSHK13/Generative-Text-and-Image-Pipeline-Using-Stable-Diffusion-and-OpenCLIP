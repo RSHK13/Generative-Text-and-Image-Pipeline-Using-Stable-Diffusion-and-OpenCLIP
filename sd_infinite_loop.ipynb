{
  "metadata": {
    "kernelspec": {
      "language": "python",
      "display_name": "Python 3",
      "name": "python3"
    },
    "language_info": {
      "pygments_lexer": "ipython3",
      "nbconvert_exporter": "python",
      "version": "3.6.4",
      "file_extension": ".py",
      "codemirror_mode": {
        "name": "ipython",
        "version": 3
      },
      "name": "python",
      "mimetype": "text/x-python"
    },
    "colab": {
      "name": "sd-infinite-loop",
      "provenance": []
    }
  },
  "nbformat_minor": 0,
  "nbformat": 4,
  "cells": [
    {
      "source": [
        "\n",
        "# IMPORTANT: RUN THIS CELL IN ORDER TO IMPORT YOUR KAGGLE DATA SOURCES\n",
        "# TO THE CORRECT LOCATION (/kaggle/input) IN YOUR NOTEBOOK,\n",
        "# THEN FEEL FREE TO DELETE THIS CELL.\n",
        "# NOTE: THIS NOTEBOOK ENVIRONMENT DIFFERS FROM KAGGLE'S PYTHON\n",
        "# ENVIRONMENT SO THERE MAY BE MISSING LIBRARIES USED BY YOUR\n",
        "# NOTEBOOK.\n",
        "\n",
        "import os\n",
        "import sys\n",
        "from tempfile import NamedTemporaryFile\n",
        "from urllib.request import urlopen\n",
        "from urllib.parse import unquote, urlparse\n",
        "from urllib.error import HTTPError\n",
        "from zipfile import ZipFile\n",
        "import tarfile\n",
        "import shutil\n",
        "\n",
        "CHUNK_SIZE = 40960\n",
        "DATA_SOURCE_MAPPING = 'stable-diffusion-image-to-prompts:https%3A%2F%2Fstorage.googleapis.com%2Fkaggle-competitions-data%2Fkaggle-v2%2F45917%2F5024308%2Fbundle%2Farchive.zip%3FX-Goog-Algorithm%3DGOOG4-RSA-SHA256%26X-Goog-Credential%3Dgcp-kaggle-com%2540kaggle-161607.iam.gserviceaccount.com%252F20240806%252Fauto%252Fstorage%252Fgoog4_request%26X-Goog-Date%3D20240806T193113Z%26X-Goog-Expires%3D259200%26X-Goog-SignedHeaders%3Dhost%26X-Goog-Signature%3D6a6f2710ad1fd55bf2ab1bb8729db6dbf2967e4ac71f820b57f0550e50f031755cd7451d5627e1155160691df1f09930812dba00b44e9cebebe7c11e6e5c34408bb678fc2808f43919bd7c4fe4babd376b91b2a9294f3eff0948abb81947b2c72f99ddece351e9ff3e5c9f1747c36adc60a082016452980e752626c15cded67a757c8006bece256a5f925e5390e2086f8881f20a1d1883c3d09917b6e234ea8627125eecb7b01656d083e45efdc42431f8052acfc79c0232a5c8b062bd5624f1bcf67f9255391f87190fd3fb3567a68410fd84fdd94f10ccb1ac954ac517b1669254f3eea7b8fb99d635b0527066a2407d4ac77f5fbbaae7f35233dd4f6aa885,sentence-transformers-222:https%3A%2F%2Fstorage.googleapis.com%2Fkaggle-data-sets%2F2893282%2F4988409%2Fbundle%2Farchive.zip%3FX-Goog-Algorithm%3DGOOG4-RSA-SHA256%26X-Goog-Credential%3Dgcp-kaggle-com%2540kaggle-161607.iam.gserviceaccount.com%252F20240806%252Fauto%252Fstorage%252Fgoog4_request%26X-Goog-Date%3D20240806T193113Z%26X-Goog-Expires%3D259200%26X-Goog-SignedHeaders%3Dhost%26X-Goog-Signature%3D1f9bd9aa1544593fbdf67e78531983286e9b8288461fe62199f418cc3c0369386ab184c4712cc67c842b09651251f095eceadaa4d9b76a3089ad42d07611cfc676a9a1f9290267f1100e1b71f6fda03c9892b6c3a281ed802feff539e9a8f8b9ec7bbb71da749f9ba1eea1d726f58ecbdf7e144b82f430cce482f32913c1fc802cd5a36a0442fb2a6e3d8b985db2b2dd41e8295f7a14453efd86efbdb4c30f8460e369862e757c73164d7f6fc5b2b0a0d455c03d392a0f5821b6e2867fd385c16cce0b6ba713fe9a2411db8668eabf7ec1bd82ca8b3f94392b204cbcbd4ee6bc6d408aa6931d0e7f522ebe16a837862a5d9ed06cd496595f7b2a031ae5fe04c6,open-clip-wheels:https%3A%2F%2Fstorage.googleapis.com%2Fkaggle-data-sets%2F2908135%2F5011787%2Fbundle%2Farchive.zip%3FX-Goog-Algorithm%3DGOOG4-RSA-SHA256%26X-Goog-Credential%3Dgcp-kaggle-com%2540kaggle-161607.iam.gserviceaccount.com%252F20240806%252Fauto%252Fstorage%252Fgoog4_request%26X-Goog-Date%3D20240806T193113Z%26X-Goog-Expires%3D259200%26X-Goog-SignedHeaders%3Dhost%26X-Goog-Signature%3D29686fd8cc23ba8854eac3e259875803202f0a27a20895dfb1b3632db5959997bdb1e95456b8aebdeaf53176deac0343a977aa365556075670af4c659f4757a6bd44f838ed1e9208f7403e00b3440139cb1b599de2d0dd67db2e900ab7965f67a0bfcf6290602211a4cf7b9ebfb1b64ec083be25ab12c87d91fb1e252c3eb4149a64f9238d1711e6afb082f7921c69993bbcf9c578b0b6be763e7b5fa3e19a81bccd4e80ed6680455da46f1e7f189dadc3950064d45f8eefe6a4d99bfca2fc2e36bc3a4f4230ef2ce7382a858572d26df5c640ee4eda5bb62ac60aaa8baeca24e6d688b2467a433f660ed817b794101452d790f40e24ed7b8cd6232222c1dfcd,open-clip-models:https%3A%2F%2Fstorage.googleapis.com%2Fkaggle-data-sets%2F2908357%2F5012196%2Fbundle%2Farchive.zip%3FX-Goog-Algorithm%3DGOOG4-RSA-SHA256%26X-Goog-Credential%3Dgcp-kaggle-com%2540kaggle-161607.iam.gserviceaccount.com%252F20240806%252Fauto%252Fstorage%252Fgoog4_request%26X-Goog-Date%3D20240806T193113Z%26X-Goog-Expires%3D259200%26X-Goog-SignedHeaders%3Dhost%26X-Goog-Signature%3Da9e9f1babfe8ba669f864217a718bd693fbf103742a067da2b3e2f3b13137682653a0e163bbc0f8b9b2b3cd66f0c7787fe0c5d0a45411c674ba7f5de4074336e3ccd6ee441ccf241b22122c22c0a2b5e0de353df1e7ec332bf4d8103cee1dd8aea0c553eaadcb88ca94fa67b317e7530e84e2516bf255ffd3b7cfbe8b1bf75672577ad52edb1db37daad00b087b884f4e575407ffc160da47c3410eb83e7ff6b37a3b23c08ea3fac3e4d2280906b0530aeaf3e940d739d6a71e3d784b9ad542e96d4417266bd4c01cccaa993ad2e11730d389395fc7ee6c7f382fdba97c623078866b3206dbea2c11e66ec1695bd323ca578086f8e4753a6a36a778979b63230'\n",
        "\n",
        "KAGGLE_INPUT_PATH='/kaggle/input'\n",
        "KAGGLE_WORKING_PATH='/kaggle/working'\n",
        "KAGGLE_SYMLINK='kaggle'\n",
        "\n",
        "!umount /kaggle/input/ 2> /dev/null\n",
        "shutil.rmtree('/kaggle/input', ignore_errors=True)\n",
        "os.makedirs(KAGGLE_INPUT_PATH, 0o777, exist_ok=True)\n",
        "os.makedirs(KAGGLE_WORKING_PATH, 0o777, exist_ok=True)\n",
        "\n",
        "try:\n",
        "  os.symlink(KAGGLE_INPUT_PATH, os.path.join(\"..\", 'input'), target_is_directory=True)\n",
        "except FileExistsError:\n",
        "  pass\n",
        "try:\n",
        "  os.symlink(KAGGLE_WORKING_PATH, os.path.join(\"..\", 'working'), target_is_directory=True)\n",
        "except FileExistsError:\n",
        "  pass\n",
        "\n",
        "for data_source_mapping in DATA_SOURCE_MAPPING.split(','):\n",
        "    directory, download_url_encoded = data_source_mapping.split(':')\n",
        "    download_url = unquote(download_url_encoded)\n",
        "    filename = urlparse(download_url).path\n",
        "    destination_path = os.path.join(KAGGLE_INPUT_PATH, directory)\n",
        "    try:\n",
        "        with urlopen(download_url) as fileres, NamedTemporaryFile() as tfile:\n",
        "            total_length = fileres.headers['content-length']\n",
        "            print(f'Downloading {directory}, {total_length} bytes compressed')\n",
        "            dl = 0\n",
        "            data = fileres.read(CHUNK_SIZE)\n",
        "            while len(data) > 0:\n",
        "                dl += len(data)\n",
        "                tfile.write(data)\n",
        "                done = int(50 * dl / int(total_length))\n",
        "                sys.stdout.write(f\"\\r[{'=' * done}{' ' * (50-done)}] {dl} bytes downloaded\")\n",
        "                sys.stdout.flush()\n",
        "                data = fileres.read(CHUNK_SIZE)\n",
        "            if filename.endswith('.zip'):\n",
        "              with ZipFile(tfile) as zfile:\n",
        "                zfile.extractall(destination_path)\n",
        "            else:\n",
        "              with tarfile.open(tfile.name) as tarfile:\n",
        "                tarfile.extractall(destination_path)\n",
        "            print(f'\\nDownloaded and uncompressed: {directory}')\n",
        "    except HTTPError as e:\n",
        "        print(f'Failed to load (likely expired) {download_url} to path {destination_path}')\n",
        "        continue\n",
        "    except OSError as e:\n",
        "        print(f'Failed to load {download_url} to path {destination_path}')\n",
        "        continue\n",
        "\n",
        "print('Data source import complete.')\n"
      ],
      "metadata": {
        "id": "T-NvoT31LKuP"
      },
      "cell_type": "code",
      "outputs": [],
      "execution_count": null
    },
    {
      "cell_type": "code",
      "source": [
        "!pip install --upgrade diffusers transformers -q"
      ],
      "metadata": {
        "_kg_hide-input": true,
        "execution": {
          "iopub.status.busy": "2023-02-18T20:51:34.537951Z",
          "iopub.execute_input": "2023-02-18T20:51:34.538689Z",
          "iopub.status.idle": "2023-02-18T20:51:44.902564Z",
          "shell.execute_reply.started": "2023-02-18T20:51:34.538596Z",
          "shell.execute_reply": "2023-02-18T20:51:44.901196Z"
        },
        "_kg_hide-output": true,
        "trusted": true,
        "id": "aSBp-m_dLKuT"
      },
      "execution_count": null,
      "outputs": []
    },
    {
      "cell_type": "code",
      "source": [
        "from pathlib import Path\n",
        "import tqdm\n",
        "\n",
        "import torch\n",
        "import pandas as pd\n",
        "import numpy as np\n",
        "from diffusers import StableDiffusionPipeline\n",
        "from transformers import pipeline, set_seed\n",
        "import matplotlib.pyplot as plt\n",
        "\n",
        "from kaggle_secrets import UserSecretsClient"
      ],
      "metadata": {
        "_kg_hide-input": true,
        "_kg_hide-output": true,
        "execution": {
          "iopub.status.busy": "2023-02-18T22:10:48.299505Z",
          "iopub.execute_input": "2023-02-18T22:10:48.299858Z",
          "iopub.status.idle": "2023-02-18T22:10:50.375227Z",
          "shell.execute_reply.started": "2023-02-18T22:10:48.299825Z",
          "shell.execute_reply": "2023-02-18T22:10:50.373085Z"
        },
        "trusted": true,
        "id": "pes8uKW7LKuT"
      },
      "execution_count": null,
      "outputs": []
    },
    {
      "cell_type": "code",
      "source": [
        "class IMGCFG:\n",
        "    device = \"cuda\"\n",
        "    seed = 42\n",
        "    generator = torch.Generator(device).manual_seed(seed)\n",
        "    image_gen_steps = 35\n",
        "    image_gen_model_id = \"stabilityai/stable-diffusion-2\"\n",
        "    image_gen_size = (512, 512)\n",
        "    image_gen_guidance_scale = 9\n",
        "    prompt_gen_model_id = \"gpt2\"\n",
        "    prompt_dataset_size = 6\n",
        "    prompt_max_length = 12"
      ],
      "metadata": {
        "_kg_hide-input": true,
        "execution": {
          "iopub.status.busy": "2023-02-18T20:57:54.507873Z",
          "iopub.execute_input": "2023-02-18T20:57:54.508963Z",
          "iopub.status.idle": "2023-02-18T20:57:54.516482Z",
          "shell.execute_reply.started": "2023-02-18T20:57:54.508924Z",
          "shell.execute_reply": "2023-02-18T20:57:54.514947Z"
        },
        "_kg_hide-output": true,
        "trusted": true,
        "id": "RvqhT6aaLKuU"
      },
      "execution_count": null,
      "outputs": []
    },
    {
      "cell_type": "code",
      "source": [
        "secret_hf_token = UserSecretsClient().get_secret(\"secret_hf_token\")"
      ],
      "metadata": {
        "_kg_hide-input": true,
        "execution": {
          "iopub.status.busy": "2023-02-18T20:57:55.87186Z",
          "iopub.execute_input": "2023-02-18T20:57:55.873022Z",
          "iopub.status.idle": "2023-02-18T20:57:56.042078Z",
          "shell.execute_reply.started": "2023-02-18T20:57:55.872971Z",
          "shell.execute_reply": "2023-02-18T20:57:56.041082Z"
        },
        "_kg_hide-output": true,
        "trusted": true,
        "id": "urRxQ1m3LKuU"
      },
      "execution_count": null,
      "outputs": []
    },
    {
      "cell_type": "code",
      "source": [
        "image_gen_model = StableDiffusionPipeline.from_pretrained(\n",
        "    IMGCFG.image_gen_model_id, torch_dtype=torch.float16,\n",
        "    revision=\"fp16\", use_auth_token=secret_hf_token, guidance_scale=9\n",
        ")\n",
        "image_gen_model = image_gen_model.to(IMGCFG.device)"
      ],
      "metadata": {
        "_kg_hide-input": true,
        "execution": {
          "iopub.status.busy": "2023-02-18T20:57:57.263211Z",
          "iopub.execute_input": "2023-02-18T20:57:57.263607Z",
          "iopub.status.idle": "2023-02-18T20:58:14.789512Z",
          "shell.execute_reply.started": "2023-02-18T20:57:57.263573Z",
          "shell.execute_reply": "2023-02-18T20:58:14.788442Z"
        },
        "_kg_hide-output": true,
        "trusted": true,
        "id": "ESd-BX_ZLKuU"
      },
      "execution_count": null,
      "outputs": []
    },
    {
      "cell_type": "code",
      "source": [
        "prompts_gen_model = pipeline('text-generation', model='gpt2')"
      ],
      "metadata": {
        "_kg_hide-input": true,
        "execution": {
          "iopub.status.busy": "2023-02-18T20:58:14.791438Z",
          "iopub.execute_input": "2023-02-18T20:58:14.792938Z",
          "iopub.status.idle": "2023-02-18T20:58:19.190187Z",
          "shell.execute_reply.started": "2023-02-18T20:58:14.792899Z",
          "shell.execute_reply": "2023-02-18T20:58:19.188986Z"
        },
        "_kg_hide-output": true,
        "trusted": true,
        "id": "xSC2Jk8ELKuV"
      },
      "execution_count": null,
      "outputs": []
    },
    {
      "cell_type": "code",
      "source": [
        "def generate_image(prompt, model):\n",
        "    image = model(\n",
        "        prompt, num_inference_steps=IMGCFG.image_gen_steps,\n",
        "        generator=IMGCFG.generator,\n",
        "        guidance_scale=IMGCFG.image_gen_guidance_scale\n",
        "    ).images[0]\n",
        "\n",
        "    image = image.resize(IMGCFG.image_gen_size)\n",
        "    return image"
      ],
      "metadata": {
        "_kg_hide-input": true,
        "execution": {
          "iopub.status.busy": "2023-02-18T20:58:19.191877Z",
          "iopub.execute_input": "2023-02-18T20:58:19.19226Z",
          "iopub.status.idle": "2023-02-18T20:58:19.198744Z",
          "shell.execute_reply.started": "2023-02-18T20:58:19.19222Z",
          "shell.execute_reply": "2023-02-18T20:58:19.197742Z"
        },
        "_kg_hide-output": true,
        "trusted": true,
        "id": "GO-3sK3eLKuV"
      },
      "execution_count": null,
      "outputs": []
    },
    {
      "cell_type": "code",
      "source": [
        "wheels_path = \"/kaggle/input/open-clip-wheels/open_clip_wheels\"\n",
        "open_clip_whl_path = f\"{wheels_path}/open_clip_torch-2.14.0-py3-none-any.whl\""
      ],
      "metadata": {
        "_uuid": "8f2839f25d086af736a60e9eeb907d3b93b6e0e5",
        "_cell_guid": "b1076dfc-b9ad-4769-8c92-a6c4dae69d19",
        "_kg_hide-input": true,
        "execution": {
          "iopub.status.busy": "2023-02-18T20:58:19.201616Z",
          "iopub.execute_input": "2023-02-18T20:58:19.202729Z",
          "iopub.status.idle": "2023-02-18T20:58:19.210124Z",
          "shell.execute_reply.started": "2023-02-18T20:58:19.202692Z",
          "shell.execute_reply": "2023-02-18T20:58:19.20903Z"
        },
        "_kg_hide-output": true,
        "trusted": true,
        "id": "yNSHkAkILKuV"
      },
      "execution_count": null,
      "outputs": []
    },
    {
      "cell_type": "code",
      "source": [
        "!pip install --no-index --find-links $wheels_path $open_clip_whl_path -q"
      ],
      "metadata": {
        "_kg_hide-input": true,
        "execution": {
          "iopub.status.busy": "2023-02-18T20:58:19.211596Z",
          "iopub.execute_input": "2023-02-18T20:58:19.212072Z",
          "iopub.status.idle": "2023-02-18T20:58:30.285501Z",
          "shell.execute_reply.started": "2023-02-18T20:58:19.212023Z",
          "shell.execute_reply": "2023-02-18T20:58:30.284131Z"
        },
        "_kg_hide-output": true,
        "trusted": true,
        "id": "FxunvIADLKuW"
      },
      "execution_count": null,
      "outputs": []
    },
    {
      "cell_type": "code",
      "source": [
        "import os\n",
        "import sys\n",
        "from PIL import Image\n",
        "from pathlib import Path\n",
        "import matplotlib.pyplot as plt\n",
        "\n",
        "import numpy as np\n",
        "import pandas as pd\n",
        "import torch\n",
        "import open_clip\n",
        "\n",
        "\n",
        "sys.path.append('../input/sentence-transformers-222/sentence-transformers')\n",
        "from sentence_transformers import SentenceTransformer, models\n",
        "\n",
        "comp_path = Path('/kaggle/input/stable-diffusion-image-to-prompts/')"
      ],
      "metadata": {
        "_kg_hide-input": true,
        "execution": {
          "iopub.status.busy": "2023-02-18T20:58:30.289405Z",
          "iopub.execute_input": "2023-02-18T20:58:30.293571Z",
          "iopub.status.idle": "2023-02-18T20:58:30.303366Z",
          "shell.execute_reply.started": "2023-02-18T20:58:30.293518Z",
          "shell.execute_reply": "2023-02-18T20:58:30.302359Z"
        },
        "_kg_hide-output": true,
        "trusted": true,
        "id": "9NyRvKdGLKuW"
      },
      "execution_count": null,
      "outputs": []
    },
    {
      "cell_type": "code",
      "source": [
        "class TXTCFG:\n",
        "    device = \"cuda\"\n",
        "    seed = 42\n",
        "    embedding_length = 384\n",
        "    sentence_model_path = \\\n",
        "        \"/kaggle/input/sentence-transformers-222/all-MiniLM-L6-v2\"\n",
        "    model_name = \\\n",
        "        \"coca_ViT-L-14\"\n",
        "    model_checkpoint_path = \\\n",
        "        \"/kaggle/input/open-clip-models/mscoco_finetuned_CoCa-ViT-L-14-laion2B-s13B-b90k.bin\""
      ],
      "metadata": {
        "_kg_hide-input": true,
        "execution": {
          "iopub.status.busy": "2023-02-18T20:58:30.307637Z",
          "iopub.execute_input": "2023-02-18T20:58:30.308414Z",
          "iopub.status.idle": "2023-02-18T20:58:30.31933Z",
          "shell.execute_reply.started": "2023-02-18T20:58:30.30838Z",
          "shell.execute_reply": "2023-02-18T20:58:30.318237Z"
        },
        "_kg_hide-output": true,
        "trusted": true,
        "id": "WPjhlNLFLKuW"
      },
      "execution_count": null,
      "outputs": []
    },
    {
      "cell_type": "code",
      "source": [
        "st_model = SentenceTransformer(TXTCFG.sentence_model_path)"
      ],
      "metadata": {
        "_kg_hide-input": true,
        "execution": {
          "iopub.status.busy": "2023-02-18T20:58:30.321084Z",
          "iopub.execute_input": "2023-02-18T20:58:30.321823Z",
          "iopub.status.idle": "2023-02-18T20:58:32.086847Z",
          "shell.execute_reply.started": "2023-02-18T20:58:30.321787Z",
          "shell.execute_reply": "2023-02-18T20:58:32.085697Z"
        },
        "_kg_hide-output": true,
        "trusted": true,
        "id": "wverI5RjLKuW"
      },
      "execution_count": null,
      "outputs": []
    },
    {
      "cell_type": "code",
      "source": [
        "model = open_clip.create_model(TXTCFG.model_name)\n",
        "open_clip.load_checkpoint(model, TXTCFG.model_checkpoint_path)"
      ],
      "metadata": {
        "_kg_hide-input": true,
        "execution": {
          "iopub.status.busy": "2023-02-18T20:58:32.088239Z",
          "iopub.execute_input": "2023-02-18T20:58:32.088622Z",
          "iopub.status.idle": "2023-02-18T20:59:06.461602Z",
          "shell.execute_reply.started": "2023-02-18T20:58:32.088582Z",
          "shell.execute_reply": "2023-02-18T20:59:06.46044Z"
        },
        "_kg_hide-output": true,
        "trusted": true,
        "id": "lsTMLEiALKuW"
      },
      "execution_count": null,
      "outputs": []
    },
    {
      "cell_type": "code",
      "source": [
        "transform = open_clip.image_transform(\n",
        "    model.visual.image_size,\n",
        "    is_train = False,\n",
        "    mean = getattr(model.visual, 'image_mean', None),\n",
        "    std = getattr(model.visual, 'image_std', None),\n",
        ")"
      ],
      "metadata": {
        "_kg_hide-input": true,
        "execution": {
          "iopub.status.busy": "2023-02-18T20:59:06.464954Z",
          "iopub.execute_input": "2023-02-18T20:59:06.467173Z",
          "iopub.status.idle": "2023-02-18T20:59:06.472908Z",
          "shell.execute_reply.started": "2023-02-18T20:59:06.467141Z",
          "shell.execute_reply": "2023-02-18T20:59:06.471696Z"
        },
        "_kg_hide-output": true,
        "trusted": true,
        "id": "1YR8ZnT2LKuW"
      },
      "execution_count": null,
      "outputs": []
    },
    {
      "cell_type": "code",
      "source": [
        "device = torch.device(\"cuda\" if torch.cuda.is_available() else \"cpu\")\n",
        "model.to(device)\n",
        "print(device)"
      ],
      "metadata": {
        "_kg_hide-input": true,
        "execution": {
          "iopub.status.busy": "2023-02-18T20:59:06.474642Z",
          "iopub.execute_input": "2023-02-18T20:59:06.475043Z",
          "iopub.status.idle": "2023-02-18T20:59:07.324453Z",
          "shell.execute_reply.started": "2023-02-18T20:59:06.474995Z",
          "shell.execute_reply": "2023-02-18T20:59:07.322834Z"
        },
        "_kg_hide-output": true,
        "trusted": true,
        "id": "FGWatJxCLKuW"
      },
      "execution_count": null,
      "outputs": []
    },
    {
      "cell_type": "code",
      "source": [
        "def generate_prompt(img):\n",
        "    img = transform(img).unsqueeze(0)\n",
        "    with torch.no_grad(), torch.cuda.amp.autocast():\n",
        "        generated = model.generate(img.to(device))\n",
        "    return open_clip.decode(\n",
        "            generated[0]\n",
        "            ).split(\"<end_of_text>\")[0].replace(\"<start_of_text>\", \"\").rstrip(\" .,\")"
      ],
      "metadata": {
        "execution": {
          "iopub.status.busy": "2023-02-18T21:01:15.598371Z",
          "iopub.execute_input": "2023-02-18T21:01:15.598798Z",
          "iopub.status.idle": "2023-02-18T21:01:15.605892Z",
          "shell.execute_reply.started": "2023-02-18T21:01:15.598763Z",
          "shell.execute_reply": "2023-02-18T21:01:15.604439Z"
        },
        "_kg_hide-input": true,
        "_kg_hide-output": true,
        "trusted": true,
        "id": "JEss0hGULKuW"
      },
      "execution_count": null,
      "outputs": []
    },
    {
      "cell_type": "code",
      "source": [
        "def plot_image(image: np.ndarray, title: str) -> None:\n",
        "    plt.figure(figsize=(8, 8))\n",
        "    plt.imshow(image)\n",
        "    plt.axis('off')\n",
        "    plt.annotate(\n",
        "        title, xy=(1.05, 0.5), xycoords='axes fraction',\n",
        "        ha='left', va='center', fontsize=16, rotation=0, color=\"#00786b\"\n",
        "    )\n",
        "    plt.show();"
      ],
      "metadata": {
        "_kg_hide-input": true,
        "_kg_hide-output": true,
        "execution": {
          "iopub.status.busy": "2023-02-18T22:10:52.033876Z",
          "iopub.execute_input": "2023-02-18T22:10:52.034372Z",
          "iopub.status.idle": "2023-02-18T22:10:52.042391Z",
          "shell.execute_reply.started": "2023-02-18T22:10:52.034325Z",
          "shell.execute_reply": "2023-02-18T22:10:52.041429Z"
        },
        "trusted": true,
        "id": "EQ7266OrLKuX"
      },
      "execution_count": null,
      "outputs": []
    },
    {
      "cell_type": "code",
      "source": [
        "# prompt = \"Kaggle employee Phil at a donut shop ordering all the best donuts, \\\n",
        "#          with a speech bubble that proclaims 'Donuts. It\\'s what's for dinner!'\"\n",
        "\n",
        "prompt = \"temple in ruines, forest, stairs, columns, cinematic, detailed, atmospheric, \\\n",
        "            epic, concept art, Matte painting, background, mist, photo-realistic, \\\n",
        "            concept art, volumetric light, cinematic epic + rule of thirds octane render, \\\n",
        "            8k, corona render, movie concept art, octane render, cinematic, \\\n",
        "            trending on artstation, movie concept art, cinematic composition, \\\n",
        "            ultra-detailed, realistic , hyper-realistic , volumetric lighting, \\\n",
        "            8k –ar 2:3 –test –uplight\"\n",
        "\n",
        "\n",
        "for _ in range(50):\n",
        "    image = generate_image(prompt, image_gen_model)\n",
        "    prompt = generate_prompt(image)\n",
        "    plot_image(image, prompt)"
      ],
      "metadata": {
        "execution": {
          "iopub.status.busy": "2023-02-18T22:10:12.875109Z",
          "iopub.status.idle": "2023-02-18T22:10:12.875689Z",
          "shell.execute_reply.started": "2023-02-18T22:10:12.875347Z",
          "shell.execute_reply": "2023-02-18T22:10:12.875369Z"
        },
        "trusted": true,
        "id": "TESOkg60LKuX"
      },
      "execution_count": null,
      "outputs": []
    }
  ]
}